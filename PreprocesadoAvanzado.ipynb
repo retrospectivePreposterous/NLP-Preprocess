{
 "cells": [
  {
   "cell_type": "code",
   "execution_count": 88,
   "id": "c2aa8d36",
   "metadata": {},
   "outputs": [],
   "source": [
    "# Importación de librerías generales\n",
    "import pandas as pd\n",
    "pd.options.mode.chained_assignment = None  # Avoid warning messages\n",
    "import numpy as np\n",
    "\n",
    "import shap\n",
    "import transformers\n",
    "\n",
    "# Lectura de los dataset\n",
    "data = pd.read_csv('xxx', lineterminator='\\n')"
   ]
  },
  {
   "cell_type": "markdown",
   "id": "8963c1a6",
   "metadata": {},
   "source": [
    "# EXPLICABILIDAD DE LA ATENCIÓN"
   ]
  },
  {
   "cell_type": "code",
   "execution_count": 1,
   "id": "bfe60064",
   "metadata": {},
   "outputs": [],
   "source": [
    "# data"
   ]
  },
  {
   "cell_type": "code",
   "execution_count": 90,
   "id": "e2f81626",
   "metadata": {},
   "outputs": [],
   "source": [
    "# Se eliminan las palabras que empiezan por # o @\n",
    "data.tweet_prepro = data.tweet_prepro.str.replace(r'(#)[^ ]*', '', regex = True)\n",
    "data.tweet_prepro = data.tweet_prepro.str.replace(r'(@)[^ ]*', '', regex = True)\n",
    "\n",
    "# Se eliminan las máscaras\n",
    "sust =[\n",
    "('[REF]',''),\n",
    "('[LIN]',''),\n",
    "('[SUB]',''),\n",
    "('[MED]',''),\n",
    "('[[]]',''),\n",
    "('[?]',''),\n",
    "(' : ',' '),\n",
    "('  ',' '),]\n",
    "\n",
    "for couple in sust:\n",
    "    data['tweet_prepro'] = data['tweet_prepro'].str.replace(couple[0], couple[1], regex=True)"
   ]
  },
  {
   "cell_type": "code",
   "execution_count": null,
   "id": "f830ab28",
   "metadata": {},
   "outputs": [],
   "source": [
    "nlp = spacy.load('es_core_news_lg')\n",
    "\n",
    "text = data.tweet_prepro[1]\n",
    "sentence = nlp(text)\n",
    "\n",
    "# Se toman las palabras que no son stopwords\n",
    "sentence_without_sw = [word for word in sentence if not word.is_stop]\n",
    "\n",
    "# Las anteriores se lematizan\n",
    "lemmas = [word.lemma_.lower() for word in sentence_without_sw]\n",
    "\n",
    "\n",
    "prep = ' '.join(lemmas)\n",
    "prep"
   ]
  },
  {
   "cell_type": "code",
   "execution_count": 2,
   "id": "b52c0645",
   "metadata": {},
   "outputs": [],
   "source": [
    "# data"
   ]
  }
 ],
 "metadata": {
  "kernelspec": {
   "display_name": "Python 3 (ipykernel)",
   "language": "python",
   "name": "python3"
  },
  "language_info": {
   "codemirror_mode": {
    "name": "ipython",
    "version": 3
   },
   "file_extension": ".py",
   "mimetype": "text/x-python",
   "name": "python",
   "nbconvert_exporter": "python",
   "pygments_lexer": "ipython3",
   "version": "3.8.11"
  }
 },
 "nbformat": 4,
 "nbformat_minor": 5
}
